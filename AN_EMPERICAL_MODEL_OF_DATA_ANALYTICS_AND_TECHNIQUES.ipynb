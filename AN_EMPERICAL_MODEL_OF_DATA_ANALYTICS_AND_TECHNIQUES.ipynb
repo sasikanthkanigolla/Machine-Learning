{
  "nbformat": 4,
  "nbformat_minor": 0,
  "metadata": {
    "colab": {
      "provenance": [],
      "include_colab_link": true
    },
    "kernelspec": {
      "name": "python3",
      "display_name": "Python 3"
    }
  },
  "cells": [
    {
      "cell_type": "markdown",
      "metadata": {
        "id": "view-in-github",
        "colab_type": "text"
      },
      "source": [
        "<a href=\"https://colab.research.google.com/github/sasikanthkanigolla/Machine-Learning/blob/main/AN_EMPERICAL_MODEL_OF_DATA_ANALYTICS_AND_TECHNIQUES.ipynb\" target=\"_parent\"><img src=\"https://colab.research.google.com/assets/colab-badge.svg\" alt=\"Open In Colab\"/></a>"
      ]
    },
    {
      "cell_type": "markdown",
      "metadata": {
        "id": "PEGG4I6n60cM"
      },
      "source": [
        "## Importing the libraries"
      ]
    },
    {
      "cell_type": "code",
      "metadata": {
        "id": "dsNQxHtM19iI"
      },
      "source": [
        "import pandas as pd\n",
        "from sklearn.decomposition import PCA\n",
        "from sklearn.decomposition import FastICA\n",
        "from sklearn.decomposition import FactorAnalysis\n",
        "from sklearn.dummy import DummyClassifier"
      ],
      "execution_count": null,
      "outputs": []
    },
    {
      "cell_type": "markdown",
      "metadata": {
        "id": "Aa536pRY7Eq5"
      },
      "source": [
        "## Importing the dataset"
      ]
    },
    {
      "cell_type": "code",
      "metadata": {
        "id": "lKOqCyTp2Bcd"
      },
      "source": [
        "dataset = pd.read_csv('breast_cancer.csv')\n",
        "X = dataset.iloc[: ,1:-1].values\n",
        "y = dataset.iloc[: ,-1].values"
      ],
      "execution_count": null,
      "outputs": []
    },
    {
      "cell_type": "code",
      "metadata": {
        "id": "uoWr3m3D6r__",
        "colab": {
          "base_uri": "https://localhost:8080/"
        },
        "outputId": "3ff07a47-2e09-4365-fa57-02cfab9def3a"
      },
      "source": [
        "print(X)"
      ],
      "execution_count": null,
      "outputs": [
        {
          "output_type": "stream",
          "name": "stdout",
          "text": [
            "[[ 5  1  1 ...  3  1  1]\n",
            " [ 5  4  4 ...  3  2  1]\n",
            " [ 3  1  1 ...  3  1  1]\n",
            " ...\n",
            " [ 5 10 10 ...  8 10  2]\n",
            " [ 4  8  6 ... 10  6  1]\n",
            " [ 4  8  8 ... 10  4  1]]\n"
          ]
        }
      ]
    },
    {
      "cell_type": "code",
      "metadata": {
        "id": "aN6I5GDf6sDc",
        "colab": {
          "base_uri": "https://localhost:8080/"
        },
        "outputId": "0115b0e6-86cd-468c-ebd6-22b3c76e933a"
      },
      "source": [
        "print(y)"
      ],
      "execution_count": null,
      "outputs": [
        {
          "output_type": "stream",
          "name": "stdout",
          "text": [
            "[2 2 2 2 2 4 2 2 2 2 2 2 4 2 4 4 2 2 4 2 4 4 2 2 4 2 2 2 2 2 2 4 2 2 2 4 2\n",
            " 4 4 4 4 4 4 2 4 2 2 4 4 4 4 4 4 4 4 4 4 4 4 2 4 4 2 4 2 4 4 2 2 4 2 4 4 2\n",
            " 2 2 2 2 2 2 2 2 4 4 4 4 2 2 2 2 2 2 2 2 2 2 4 4 4 4 2 4 4 4 4 4 2 4 2 4 4\n",
            " 4 2 2 2 4 2 2 2 2 4 4 4 2 4 2 4 2 2 2 4 2 2 2 2 2 2 2 2 4 2 2 4 2 2 4 2 4\n",
            " 4 2 2 4 2 2 4 4 2 2 2 2 4 4 2 2 2 2 2 4 4 4 2 4 2 4 2 2 2 4 4 2 4 4 4 2 4\n",
            " 4 2 2 2 2 2 2 2 2 4 4 2 2 2 4 4 2 2 2 4 4 2 4 4 4 2 2 4 2 2 4 4 4 4 2 4 4\n",
            " 2 4 4 4 2 4 2 4 4 4 4 2 2 2 2 2 2 4 4 2 2 4 2 4 4 4 2 2 2 2 4 4 4 4 4 2 4\n",
            " 4 4 2 4 2 4 4 2 2 2 2 4 2 2 4 4 4 4 4 2 4 4 2 2 4 4 2 2 4 4 2 4 2 4 4 2 2\n",
            " 4 2 2 2 4 2 2 4 4 2 2 4 2 4 2 2 4 2 4 4 4 2 2 4 4 2 4 2 2 4 4 2 2 2 4 2 2\n",
            " 2 4 4 2 2 2 4 2 2 4 4 4 4 4 4 2 2 2 2 4 4 2 2 2 2 2 2 2 2 2 2 2 2 2 4 2 2\n",
            " 2 2 4 2 2 2 2 4 2 2 2 2 2 2 2 2 4 2 2 2 2 2 2 2 2 2 2 4 2 4 2 4 2 2 2 2 4\n",
            " 2 2 2 4 2 4 2 2 2 2 2 2 2 4 4 2 2 2 4 2 2 2 2 2 2 2 2 4 2 2 2 4 2 4 4 4 2\n",
            " 2 2 2 2 2 2 4 4 4 2 2 2 2 2 2 2 2 2 2 2 4 2 2 4 4 2 2 2 4 4 4 2 4 2 4 2 2\n",
            " 2 2 2 2 2 2 2 2 2 2 4 2 2 2 2 2 2 2 4 4 2 2 2 4 2 2 4 4 2 2 2 2 2 2 4 2 2\n",
            " 2 2 2 2 2 2 2 2 2 2 2 2 2 4 2 2 4 2 2 2 2 2 2 2 2 2 2 2 2 2 2 2 4 2 2 4 4\n",
            " 4 4 2 2 4 2 2 2 2 2 2 4 4 2 2 2 4 2 4 2 4 4 4 2 4 2 2 2 2 2 2 2 2 4 4 4 2\n",
            " 2 4 2 4 4 4 2 2 2 2 2 2 2 2 2 2 2 2 4 2 2 2 2 2 2 4 2 2 4 2 2 2 2 2 2 2 2\n",
            " 2 2 2 4 2 2 2 2 2 2 2 2 2 4 2 2 2 2 2 2 2 2 2 4 4 4 2 2 2 2 2 2 2 2 2 4 4\n",
            " 2 2 2 2 2 2 2 2 2 4 2 2 2 2 4 4 4]\n"
          ]
        }
      ]
    },
    {
      "cell_type": "markdown",
      "source": [
        "##Feature Scaling\n"
      ],
      "metadata": {
        "id": "HdsJk0gvqMW5"
      }
    },
    {
      "cell_type": "code",
      "source": [
        "# from sklearn.preprocessing import StandardScaler\n",
        "# sc_X = StandardScaler()\n",
        "# sc_y = StandardScaler()\n",
        "# X = sc_X.fit_transform(X)\n",
        "# y = sc_y.fit_transform(y)"
      ],
      "metadata": {
        "id": "SM68Sp9jqLgB"
      },
      "execution_count": null,
      "outputs": []
    },
    {
      "cell_type": "code",
      "source": [
        "# pca = PCA(n_components=4)\n",
        "# X = pca.fit(X)\n",
        "# print(pca.explained_variance_ratio_)\n",
        "# print(pca.singular_values_)\n",
        "# print(X)"
      ],
      "metadata": {
        "id": "o7BaIHLQMbJH"
      },
      "execution_count": null,
      "outputs": []
    },
    {
      "cell_type": "code",
      "source": [
        "print(X)"
      ],
      "metadata": {
        "colab": {
          "base_uri": "https://localhost:8080/"
        },
        "id": "yfuNBshnSWjA",
        "outputId": "fcb98fd6-a2b1-4832-d112-7e6d72ab5a7d"
      },
      "execution_count": null,
      "outputs": [
        {
          "output_type": "stream",
          "name": "stdout",
          "text": [
            "[[ 5  1  1 ...  3  1  1]\n",
            " [ 5  4  4 ...  3  2  1]\n",
            " [ 3  1  1 ...  3  1  1]\n",
            " ...\n",
            " [ 5 10 10 ...  8 10  2]\n",
            " [ 4  8  6 ... 10  6  1]\n",
            " [ 4  8  8 ... 10  4  1]]\n"
          ]
        }
      ]
    },
    {
      "cell_type": "markdown",
      "metadata": {
        "id": "0AnzJQCj7TLO"
      },
      "source": [
        "## Splitting the dataset into the Training set and Test set"
      ]
    },
    {
      "cell_type": "code",
      "metadata": {
        "id": "zfHK-T0P6wOC"
      },
      "source": [
        "from sklearn.model_selection import train_test_split\n",
        "X_train, X_test, y_train, y_test = train_test_split(X, y, test_size = 0.2,random_state = 0)"
      ],
      "execution_count": null,
      "outputs": []
    },
    {
      "cell_type": "code",
      "metadata": {
        "id": "gThmfQEA7GW0",
        "colab": {
          "base_uri": "https://localhost:8080/"
        },
        "outputId": "b26bc4ca-feed-4ec9-95ec-fe765914a349"
      },
      "source": [
        "print(X_train)"
      ],
      "execution_count": null,
      "outputs": [
        {
          "output_type": "stream",
          "name": "stdout",
          "text": [
            "[[10  1  1 ...  5  4  1]\n",
            " [ 1  1  1 ...  3  1  1]\n",
            " [ 5  1  1 ...  3  1  1]\n",
            " ...\n",
            " [ 1  1  1 ...  1  1  1]\n",
            " [ 3  1  1 ...  2  1  1]\n",
            " [10  9  7 ...  7  7  1]]\n"
          ]
        }
      ]
    },
    {
      "cell_type": "code",
      "metadata": {
        "id": "apgRfVKm7GTd",
        "colab": {
          "base_uri": "https://localhost:8080/"
        },
        "outputId": "8322cfd6-e704-4d81-db59-86625b461c4e"
      },
      "source": [
        "print(X_test)"
      ],
      "execution_count": null,
      "outputs": [
        {
          "output_type": "stream",
          "name": "stdout",
          "text": [
            "[[ 1  1  1 ...  1  1  1]\n",
            " [ 3  1  1 ...  2  1  1]\n",
            " [ 5  5  5 ...  4  3  1]\n",
            " ...\n",
            " [ 4  1  1 ...  1  1  1]\n",
            " [ 4 10  4 ...  9 10  1]\n",
            " [ 2  1  1 ...  2  1  1]]\n"
          ]
        }
      ]
    },
    {
      "cell_type": "code",
      "metadata": {
        "id": "cMoKyVaN7GQ-",
        "colab": {
          "base_uri": "https://localhost:8080/"
        },
        "outputId": "5f7a9c9f-0621-4f9b-bf43-6757873e8b6e"
      },
      "source": [
        "print(y_train)"
      ],
      "execution_count": null,
      "outputs": [
        {
          "output_type": "stream",
          "name": "stdout",
          "text": [
            "[4 2 2 2 4 2 2 2 2 4 2 4 2 4 4 2 2 2 2 4 4 2 4 4 4 4 4 4 2 2 2 2 2 2 4 4 4\n",
            " 2 2 2 4 2 2 4 4 2 4 2 2 4 4 2 2 2 2 2 2 2 2 2 2 4 2 2 2 2 2 4 4 2 4 2 2 2\n",
            " 4 2 2 2 2 4 4 2 2 4 4 2 2 4 4 2 4 2 4 4 2 2 2 4 2 4 2 4 2 2 2 2 2 4 2 2 4\n",
            " 2 2 4 2 2 2 2 2 4 2 2 4 2 4 2 2 4 4 4 2 2 2 2 2 2 4 4 2 2 2 2 2 2 2 4 2 2\n",
            " 4 2 2 2 2 2 2 2 4 2 2 2 4 4 2 4 2 2 2 4 2 2 2 4 4 2 4 2 2 4 2 2 2 2 2 2 2\n",
            " 4 4 4 4 2 4 2 4 2 4 4 4 2 2 4 2 2 2 2 4 4 2 2 2 4 2 2 4 2 2 2 2 4 4 2 2 2\n",
            " 2 2 2 2 2 2 2 2 4 2 4 2 2 2 2 2 2 4 4 4 4 2 2 4 2 4 2 4 2 2 2 2 4 2 4 2 2\n",
            " 2 2 4 2 2 4 2 2 2 2 2 2 2 4 2 4 2 2 2 4 2 2 2 2 2 4 2 2 2 2 4 2 2 4 2 2 2\n",
            " 2 4 4 2 2 2 2 4 2 2 4 2 2 2 2 4 4 2 4 2 4 2 2 2 4 4 4 2 2 2 2 2 2 2 2 4 4\n",
            " 2 2 2 2 2 2 2 4 4 2 2 2 2 4 4 4 2 4 2 4 2 2 2 2 2 4 2 4 4 2 2 2 2 2 2 2 4\n",
            " 2 2 2 4 2 2 4 4 4 2 4 4 4 2 2 2 4 2 4 2 2 4 2 4 4 4 2 2 2 4 2 4 4 4 2 2 2\n",
            " 4 2 4 2 2 2 2 4 4 2 2 2 4 4 2 2 4 2 2 2 4 4 2 2 2 4 2 2 2 4 2 4 2 2 4 2 2\n",
            " 2 2 4 4 2 2 4 4 2 2 4 4 4 2 2 4 2 2 2 2 2 4 2 4 4 2 2 2 2 4 2 2 2 2 4 2 4\n",
            " 2 4 2 2 4 2 2 2 2 4 2 2 2 4 2 2 4 4 4 4 2 4 4 2 4 4 2 2 2 2 2 2 4 2 2 2 2\n",
            " 4 4 2 4 4 4 2 2 4 4 2 2 2 2 2 2 4 2 2 4 2 2 4 2 2 2 2 4]\n"
          ]
        }
      ]
    },
    {
      "cell_type": "code",
      "metadata": {
        "id": "gsvHHfEi7GOK",
        "colab": {
          "base_uri": "https://localhost:8080/"
        },
        "outputId": "03343f38-464a-4cec-a304-0160083a2f9e"
      },
      "source": [
        "print(y_test)"
      ],
      "execution_count": null,
      "outputs": [
        {
          "output_type": "stream",
          "name": "stdout",
          "text": [
            "[2 2 4 4 2 2 2 4 2 2 4 2 4 2 2 2 4 4 4 2 2 2 4 2 4 4 2 2 2 4 2 4 4 2 2 2 4\n",
            " 4 2 4 2 2 2 2 2 2 2 4 2 2 4 2 4 2 2 2 4 2 2 4 2 2 2 2 2 2 2 2 4 4 2 2 2 2\n",
            " 2 2 4 2 2 2 4 2 4 2 2 4 2 2 4 2 4 2 4 4 4 2 4 4 4 2 2 2 4 4 2 2 4 4 2 2 4\n",
            " 2 2 4 2 2 2 4 2 2 2 4 2 2 4 4 2 4 2 4 2 2 4 2 2 4 2]\n"
          ]
        }
      ]
    },
    {
      "cell_type": "code",
      "source": [
        "# from sklearn.decomposition import PCA\n",
        "# pca = PCA(n_components = 5)\n",
        "# X_train = pca.fit_transform(X_train)\n",
        "# X_test = pca.transform(X_test)"
      ],
      "metadata": {
        "id": "b4iaNwiGTLY-"
      },
      "execution_count": null,
      "outputs": []
    },
    {
      "cell_type": "code",
      "source": [
        "# from sklearn.decomposition import KernelPCA\n",
        "# X = KernelPCA(n_components = 5, kernel = 'rbf')\n",
        "# X_train = X.fit_transform(X_train)\n",
        "# X_test = X.transform(X_test)"
      ],
      "metadata": {
        "id": "mWuJjzlzY32m"
      },
      "execution_count": null,
      "outputs": []
    },
    {
      "cell_type": "code",
      "source": [
        "# transformer = FastICA(n_components=5,random_state=0,whiten='unit-variance')\n",
        "# X_train = transformer.fit_transform(X_train)\n",
        "# X_test = transformer.transform(X_test)"
      ],
      "metadata": {
        "id": "lruOhHybaA5S"
      },
      "execution_count": null,
      "outputs": []
    },
    {
      "cell_type": "code",
      "source": [
        "transformer = FactorAnalysis(n_components=5, random_state=0)\n",
        "X_train = transformer.fit_transform(X_train)\n",
        "X_test = transformer.transform(X_test)"
      ],
      "metadata": {
        "id": "jgLaX-NqhWKY"
      },
      "execution_count": null,
      "outputs": []
    },
    {
      "cell_type": "code",
      "source": [
        "# from sklearn.decomposition import SparsePCA\n",
        "# transformer = SparsePCA(n_components=5, random_state=0)\n",
        "# X_train = transformer.fit_transform(X_train)\n",
        "# X_test = transformer.transform(X_test)"
      ],
      "metadata": {
        "id": "a1ab1W-33jF-"
      },
      "execution_count": null,
      "outputs": []
    },
    {
      "cell_type": "code",
      "source": [
        "# from sklearn.decomposition import MiniBatchNMF\n",
        "# model = MiniBatchNMF(n_components=5, init='random', random_state=0)\n",
        "# X_train = model.fit_transform(X_train)\n",
        "# X_test = model.transform(X_test)     #Not Working"
      ],
      "metadata": {
        "id": "16oERfJAaCpJ"
      },
      "execution_count": null,
      "outputs": []
    },
    {
      "cell_type": "code",
      "source": [
        "# from sklearn.decomposition import NMF\n",
        "# model = NMF(n_components=5, init='random', random_state=0)\n",
        "# X_train = model.fit_transform(X_train)\n",
        "# X_test = model.transform(X_test)"
      ],
      "metadata": {
        "id": "v32Did6ObNH2"
      },
      "execution_count": null,
      "outputs": []
    },
    {
      "cell_type": "code",
      "source": [
        "# dummy_clf = DummyClassifier(strategy=\"most_frequent\")\n",
        "# X_train = dummy_clf.fit(X_train)\n",
        "# X_test = dummy_clf.predict(X_test) #NotWorking"
      ],
      "metadata": {
        "id": "nFmxsoO-c6Z_"
      },
      "execution_count": null,
      "outputs": []
    },
    {
      "cell_type": "markdown",
      "metadata": {
        "id": "pS1Q-n_A7iZ_"
      },
      "source": [
        "## Training the model on the Training set"
      ]
    },
    {
      "cell_type": "code",
      "metadata": {
        "id": "tqZ-9CX47ns6",
        "colab": {
          "base_uri": "https://localhost:8080/"
        },
        "outputId": "cd35fd89-b7a6-4178-b866-5cb6e5f6051b"
      },
      "source": [
        "from sklearn.linear_model import LogisticRegression\n",
        "classifier_logistic_regression = LogisticRegression(random_state = 0)\n",
        "classifier_logistic_regression.fit(X_train, y_train)"
      ],
      "execution_count": null,
      "outputs": [
        {
          "output_type": "execute_result",
          "data": {
            "text/plain": [
              "LogisticRegression(random_state=0)"
            ]
          },
          "metadata": {},
          "execution_count": 171
        }
      ]
    },
    {
      "cell_type": "markdown",
      "source": [
        "##Stochastic Gradient Descent"
      ],
      "metadata": {
        "id": "BhTiEcUbcp4b"
      }
    },
    {
      "cell_type": "code",
      "source": [
        "# from sklearn.linear_model import SGDClassifier ##Stochastic Gradient Descent\n",
        "# clf1 = SGDClassifier(loss=\"hinge\", penalty=\"l2\", max_iter=5)\n",
        "# clf1.fit(X, y) ##93.96%"
      ],
      "metadata": {
        "id": "TLMNWuhQbpHX"
      },
      "execution_count": null,
      "outputs": []
    },
    {
      "cell_type": "markdown",
      "source": [
        "## K-NEAREST NEIGHBOURS"
      ],
      "metadata": {
        "id": "kUUKn5InuFGb"
      }
    },
    {
      "cell_type": "code",
      "source": [
        "from sklearn.neighbors import KNeighborsClassifier ##KNN\n",
        "classifier_KNN = KNeighborsClassifier(n_neighbors = 5, metric = 'minkowski', p = 2)\n",
        "classifier_KNN.fit(X_train, y_train) ##97.44%"
      ],
      "metadata": {
        "id": "w6bGlO4Qbwz5",
        "colab": {
          "base_uri": "https://localhost:8080/"
        },
        "outputId": "ca4babf7-00c0-40c7-8674-2fbaf32b4a8b"
      },
      "execution_count": null,
      "outputs": [
        {
          "output_type": "execute_result",
          "data": {
            "text/plain": [
              "KNeighborsClassifier()"
            ]
          },
          "metadata": {},
          "execution_count": 173
        }
      ]
    },
    {
      "cell_type": "markdown",
      "source": [
        "##SUPPORT VECTOR MACHINE"
      ],
      "metadata": {
        "id": "ikicwp5KuOQ_"
      }
    },
    {
      "cell_type": "code",
      "source": [
        "from sklearn.svm import SVC ##svm\n",
        "classifier_SVC = SVC(kernel = 'linear', random_state = 0)\n",
        "classifier_SVC.fit(X_train, y_train) ##97.04"
      ],
      "metadata": {
        "id": "XmdKIjrzdEmm",
        "colab": {
          "base_uri": "https://localhost:8080/"
        },
        "outputId": "1460522f-3828-42ef-dc06-da97137829c1"
      },
      "execution_count": null,
      "outputs": [
        {
          "output_type": "execute_result",
          "data": {
            "text/plain": [
              "SVC(kernel='linear', random_state=0)"
            ]
          },
          "metadata": {},
          "execution_count": 174
        }
      ]
    },
    {
      "cell_type": "markdown",
      "source": [
        "##KERNEL SUPPORT VECCTOR MACHINE"
      ],
      "metadata": {
        "id": "5HwEccHluTJe"
      }
    },
    {
      "cell_type": "code",
      "source": [
        "from sklearn.svm import SVC\n",
        "classifier_SVC_rbf = SVC(kernel = 'rbf', random_state = 0)\n",
        "classifier_SVC_rbf.fit(X_train, y_train) ##96.8"
      ],
      "metadata": {
        "id": "WC6O95qidaLS",
        "colab": {
          "base_uri": "https://localhost:8080/"
        },
        "outputId": "3d83e6e1-5919-435f-e9e9-d88aca72fa09"
      },
      "execution_count": null,
      "outputs": [
        {
          "output_type": "execute_result",
          "data": {
            "text/plain": [
              "SVC(random_state=0)"
            ]
          },
          "metadata": {},
          "execution_count": 175
        }
      ]
    },
    {
      "cell_type": "markdown",
      "source": [
        "##NAIVE BAYES"
      ],
      "metadata": {
        "id": "YZleRaCWucHg"
      }
    },
    {
      "cell_type": "code",
      "source": [
        "from sklearn.naive_bayes import GaussianNB ##naive_bayes\n",
        "classifier_naive_bayes = GaussianNB()\n",
        "classifier_naive_bayes.fit(X_train, y_train) ##96.52 %"
      ],
      "metadata": {
        "id": "HQwdri7MdrQw",
        "colab": {
          "base_uri": "https://localhost:8080/"
        },
        "outputId": "f57ad5bf-9d62-4df3-d01b-3d1f49cd42e8"
      },
      "execution_count": null,
      "outputs": [
        {
          "output_type": "execute_result",
          "data": {
            "text/plain": [
              "GaussianNB()"
            ]
          },
          "metadata": {},
          "execution_count": 176
        }
      ]
    },
    {
      "cell_type": "markdown",
      "source": [
        "##DECISION TREE"
      ],
      "metadata": {
        "id": "tp2TNsIeueqa"
      }
    },
    {
      "cell_type": "code",
      "source": [
        "from sklearn.tree import DecisionTreeClassifier ##decision_tree\n",
        "classifier_descision_tree = DecisionTreeClassifier(criterion = 'entropy', random_state = 0)\n",
        "classifier_descision_tree.fit(X_train, y_train) ##94.33%"
      ],
      "metadata": {
        "id": "2PLW6_ITeDE1",
        "colab": {
          "base_uri": "https://localhost:8080/"
        },
        "outputId": "d6716e01-3eea-4f0b-bdd1-693df4bdfb76"
      },
      "execution_count": null,
      "outputs": [
        {
          "output_type": "execute_result",
          "data": {
            "text/plain": [
              "DecisionTreeClassifier(criterion='entropy', random_state=0)"
            ]
          },
          "metadata": {},
          "execution_count": 177
        }
      ]
    },
    {
      "cell_type": "markdown",
      "source": [
        "##RANDOM FOREST CLASSIFIER\n"
      ],
      "metadata": {
        "id": "_Vi8-2Xbuhem"
      }
    },
    {
      "cell_type": "code",
      "source": [
        "from sklearn.ensemble import RandomForestClassifier ##Random_Forest\n",
        "classifier_RF = RandomForestClassifier(n_estimators = 100, criterion = 'entropy', random_state = 0)\n",
        "classifier_RF.fit(X_train, y_train) ##96.70%"
      ],
      "metadata": {
        "id": "2cg7qvKyeXPh",
        "colab": {
          "base_uri": "https://localhost:8080/"
        },
        "outputId": "f7e921ba-989b-43f6-a513-3af314e0627b"
      },
      "execution_count": null,
      "outputs": [
        {
          "output_type": "execute_result",
          "data": {
            "text/plain": [
              "RandomForestClassifier(criterion='entropy', random_state=0)"
            ]
          },
          "metadata": {},
          "execution_count": 178
        }
      ]
    },
    {
      "cell_type": "markdown",
      "metadata": {
        "id": "4cgD7EnB8Dnd"
      },
      "source": [
        "## Predicting the Test set results"
      ]
    },
    {
      "cell_type": "code",
      "source": [
        "y_pred_logisitic_regression = classifier_logistic_regression.predict(X_test)"
      ],
      "metadata": {
        "id": "0NtFehYUVwbj"
      },
      "execution_count": null,
      "outputs": []
    },
    {
      "cell_type": "code",
      "metadata": {
        "id": "epHUH-fbABUv"
      },
      "source": [
        "y_pred_naive_bayes = classifier_naive_bayes.predict(X_test)"
      ],
      "execution_count": null,
      "outputs": []
    },
    {
      "cell_type": "code",
      "source": [
        "y_pred_KNN = classifier_KNN.predict(X_test)"
      ],
      "metadata": {
        "id": "vFgN1UCncuLV"
      },
      "execution_count": null,
      "outputs": []
    },
    {
      "cell_type": "code",
      "source": [
        "y_pred_SVC = classifier_SVC.predict(X_test)"
      ],
      "metadata": {
        "id": "T88KYcWadJi0"
      },
      "execution_count": null,
      "outputs": []
    },
    {
      "cell_type": "code",
      "source": [
        "y_pred_SVC_rbf = classifier_SVC_rbf.predict(X_test)"
      ],
      "metadata": {
        "id": "43Skpgm5dUHP"
      },
      "execution_count": null,
      "outputs": []
    },
    {
      "cell_type": "code",
      "source": [
        "y_pred_decision_tree = classifier_descision_tree.predict(X_test)"
      ],
      "metadata": {
        "id": "bQMM9B7bdb_f"
      },
      "execution_count": null,
      "outputs": []
    },
    {
      "cell_type": "code",
      "source": [
        "y_pred_RF = classifier_RF.predict(X_test)"
      ],
      "metadata": {
        "id": "MFf7bTC1dx1w"
      },
      "execution_count": null,
      "outputs": []
    },
    {
      "cell_type": "code",
      "source": [
        "# print(y_pred)"
      ],
      "metadata": {
        "id": "UV69QRc5CElu"
      },
      "execution_count": null,
      "outputs": []
    },
    {
      "cell_type": "code",
      "source": [
        "# y_pred1 = classifier1.predict([[8,10,10,8,7,10,9,7,1]])\n",
        "# print(y_pred1)"
      ],
      "metadata": {
        "id": "wkW_7JLcmUne"
      },
      "execution_count": null,
      "outputs": []
    },
    {
      "cell_type": "markdown",
      "source": [
        "##EVALUATING METRICS"
      ],
      "metadata": {
        "id": "mtT_0frsu0UJ"
      }
    },
    {
      "cell_type": "code",
      "source": [
        "from sklearn.metrics import confusion_matrix\n",
        "cm_logisitic_regression = confusion_matrix(y_test, y_pred_logisitic_regression)\n",
        "print(cm_logisitic_regression)"
      ],
      "metadata": {
        "id": "hEmiLRKmUhl4",
        "colab": {
          "base_uri": "https://localhost:8080/"
        },
        "outputId": "c825a87b-d585-41ad-d167-96f09d58b716"
      },
      "execution_count": null,
      "outputs": [
        {
          "output_type": "stream",
          "name": "stdout",
          "text": [
            "[[85  2]\n",
            " [ 4 46]]\n"
          ]
        }
      ]
    },
    {
      "cell_type": "code",
      "source": [
        "cm_KNN = confusion_matrix(y_test, y_pred_KNN)\n",
        "print(cm_KNN)"
      ],
      "metadata": {
        "id": "XJ8KXFrBVpjx",
        "colab": {
          "base_uri": "https://localhost:8080/"
        },
        "outputId": "4ed509ce-223d-4f84-b623-94695100855b"
      },
      "execution_count": null,
      "outputs": [
        {
          "output_type": "stream",
          "name": "stdout",
          "text": [
            "[[84  3]\n",
            " [ 3 47]]\n"
          ]
        }
      ]
    },
    {
      "cell_type": "code",
      "source": [
        "cm_naive_bayes = confusion_matrix(y_test, y_pred_naive_bayes)\n",
        "print(cm_naive_bayes)"
      ],
      "metadata": {
        "id": "_YTZicZteHJx",
        "colab": {
          "base_uri": "https://localhost:8080/"
        },
        "outputId": "b0c32329-e7f6-45ab-f269-654ac3ee33e0"
      },
      "execution_count": null,
      "outputs": [
        {
          "output_type": "stream",
          "name": "stdout",
          "text": [
            "[[82  5]\n",
            " [ 1 49]]\n"
          ]
        }
      ]
    },
    {
      "cell_type": "code",
      "source": [
        "cm_SVC = confusion_matrix(y_test, y_pred_SVC)\n",
        "print(cm_SVC)"
      ],
      "metadata": {
        "id": "9lqI8MlleezM",
        "colab": {
          "base_uri": "https://localhost:8080/"
        },
        "outputId": "0202cddf-4e47-4ccd-d762-bb0be8dfd96e"
      },
      "execution_count": null,
      "outputs": [
        {
          "output_type": "stream",
          "name": "stdout",
          "text": [
            "[[84  3]\n",
            " [ 2 48]]\n"
          ]
        }
      ]
    },
    {
      "cell_type": "code",
      "source": [
        "cm_SVC_rbf = confusion_matrix(y_test, y_pred_SVC_rbf)\n",
        "print(cm_SVC_rbf)"
      ],
      "metadata": {
        "id": "VyerFDrmelMg",
        "colab": {
          "base_uri": "https://localhost:8080/"
        },
        "outputId": "305c1ec3-35b6-4234-e7ec-bab0350b9798"
      },
      "execution_count": null,
      "outputs": [
        {
          "output_type": "stream",
          "name": "stdout",
          "text": [
            "[[83  4]\n",
            " [ 2 48]]\n"
          ]
        }
      ]
    },
    {
      "cell_type": "code",
      "source": [
        "cm_decision_tree = confusion_matrix(y_test, y_pred_decision_tree)\n",
        "print(cm_decision_tree)"
      ],
      "metadata": {
        "id": "TAmAsZnOeri2",
        "colab": {
          "base_uri": "https://localhost:8080/"
        },
        "outputId": "d649be2b-c294-434b-fc90-65d5f059b224"
      },
      "execution_count": null,
      "outputs": [
        {
          "output_type": "stream",
          "name": "stdout",
          "text": [
            "[[84  3]\n",
            " [ 2 48]]\n"
          ]
        }
      ]
    },
    {
      "cell_type": "code",
      "source": [
        "cm_RF = confusion_matrix(y_test, y_pred_RF)\n",
        "print(cm_RF)"
      ],
      "metadata": {
        "id": "Txl3ITv2fPUE",
        "colab": {
          "base_uri": "https://localhost:8080/"
        },
        "outputId": "03808e47-2eca-465f-d9bb-387c3a5b28bf"
      },
      "execution_count": null,
      "outputs": [
        {
          "output_type": "stream",
          "name": "stdout",
          "text": [
            "[[83  4]\n",
            " [ 0 50]]\n"
          ]
        }
      ]
    },
    {
      "cell_type": "code",
      "source": [
        "tn, fp, fn, tp = confusion_matrix(y_test, y_pred_logisitic_regression).ravel()\n",
        "specificity_logisitic_regression = tn / (tn+fp)\n",
        "print(specificity_logisitic_regression)"
      ],
      "metadata": {
        "id": "8Uzi_IfoB5J1",
        "colab": {
          "base_uri": "https://localhost:8080/"
        },
        "outputId": "592f0640-e30a-40c7-805e-d1a9c7e1ae17"
      },
      "execution_count": null,
      "outputs": [
        {
          "output_type": "stream",
          "name": "stdout",
          "text": [
            "0.9770114942528736\n"
          ]
        }
      ]
    },
    {
      "cell_type": "code",
      "source": [
        "tn, fp, fn, tp = confusion_matrix(y_test, y_pred_KNN).ravel()\n",
        "specificity_kNN = tn / (tn+fp)\n",
        "print(specificity_kNN)"
      ],
      "metadata": {
        "id": "8uDkV9Jtfzog",
        "colab": {
          "base_uri": "https://localhost:8080/"
        },
        "outputId": "d00c1a5b-9518-4b6f-956e-dfb31b5b8553"
      },
      "execution_count": null,
      "outputs": [
        {
          "output_type": "stream",
          "name": "stdout",
          "text": [
            "0.9655172413793104\n"
          ]
        }
      ]
    },
    {
      "cell_type": "code",
      "source": [
        "tn, fp, fn, tp = confusion_matrix(y_test, y_pred_naive_bayes).ravel()\n",
        "specificity_naive_bayes = tn / (tn+fp)\n",
        "print(specificity_naive_bayes)"
      ],
      "metadata": {
        "id": "RphPa6Rggzli",
        "colab": {
          "base_uri": "https://localhost:8080/"
        },
        "outputId": "d7fb09e2-91c6-4481-afa7-f24d0c0e8195"
      },
      "execution_count": null,
      "outputs": [
        {
          "output_type": "stream",
          "name": "stdout",
          "text": [
            "0.9425287356321839\n"
          ]
        }
      ]
    },
    {
      "cell_type": "code",
      "source": [
        "tn, fp, fn, tp = confusion_matrix(y_test, y_pred_SVC).ravel()\n",
        "specificity_SVC = tn / (tn+fp)\n",
        "print(specificity_SVC)"
      ],
      "metadata": {
        "id": "kOHcXCpShPgr",
        "colab": {
          "base_uri": "https://localhost:8080/"
        },
        "outputId": "9d84771d-cdaa-4ebc-bc0c-bfce69e4c56a"
      },
      "execution_count": null,
      "outputs": [
        {
          "output_type": "stream",
          "name": "stdout",
          "text": [
            "0.9655172413793104\n"
          ]
        }
      ]
    },
    {
      "cell_type": "code",
      "source": [
        "tn, fp, fn, tp = confusion_matrix(y_test, y_pred_SVC_rbf).ravel()\n",
        "specificity_SVC_rbf = tn / (tn+fp)\n",
        "print(specificity_SVC_rbf)"
      ],
      "metadata": {
        "id": "WNXBmbtfhirQ",
        "colab": {
          "base_uri": "https://localhost:8080/"
        },
        "outputId": "ac933108-a08f-48dc-fa7a-4b9c35be9088"
      },
      "execution_count": null,
      "outputs": [
        {
          "output_type": "stream",
          "name": "stdout",
          "text": [
            "0.9540229885057471\n"
          ]
        }
      ]
    },
    {
      "cell_type": "code",
      "source": [
        "tn, fp, fn, tp = confusion_matrix(y_test, y_pred_decision_tree).ravel()\n",
        "specificity_decision_tree = tn / (tn+fp)\n",
        "print(specificity_decision_tree)"
      ],
      "metadata": {
        "id": "I2FPV5b-iFtz",
        "colab": {
          "base_uri": "https://localhost:8080/"
        },
        "outputId": "7b667ed1-0d46-429d-c5c5-5bdbaf7b8033"
      },
      "execution_count": null,
      "outputs": [
        {
          "output_type": "stream",
          "name": "stdout",
          "text": [
            "0.9655172413793104\n"
          ]
        }
      ]
    },
    {
      "cell_type": "code",
      "source": [
        "tn, fp, fn, tp = confusion_matrix(y_test, y_pred_RF).ravel()\n",
        "specificity_RF = tn / (tn+fp)\n",
        "print(specificity_RF)"
      ],
      "metadata": {
        "id": "rjjxD8kliVCR",
        "colab": {
          "base_uri": "https://localhost:8080/"
        },
        "outputId": "d99c62f7-c1f6-4cb5-f751-26f83a1cf4dd"
      },
      "execution_count": null,
      "outputs": [
        {
          "output_type": "stream",
          "name": "stdout",
          "text": [
            "0.9540229885057471\n"
          ]
        }
      ]
    },
    {
      "cell_type": "markdown",
      "source": [
        "##ACCURACY SCORE"
      ],
      "metadata": {
        "id": "X89Tjz95KcxX"
      }
    },
    {
      "cell_type": "code",
      "source": [
        "from sklearn.metrics import accuracy_score\n",
        "accuracy_score_logistic_regression = accuracy_score(y_test, y_pred_logisitic_regression)\n",
        "print(accuracy_score_logistic_regression)"
      ],
      "metadata": {
        "id": "YGf6nBQGKSmy",
        "colab": {
          "base_uri": "https://localhost:8080/"
        },
        "outputId": "b6dba64c-cdce-4632-c812-32bdfa6df53e"
      },
      "execution_count": null,
      "outputs": [
        {
          "output_type": "stream",
          "name": "stdout",
          "text": [
            "0.9562043795620438\n"
          ]
        }
      ]
    },
    {
      "cell_type": "code",
      "source": [
        "accuracy_score_KNN = accuracy_score(y_test, y_pred_KNN)\n",
        "print(accuracy_score_KNN)"
      ],
      "metadata": {
        "id": "9cqq52EojGgg",
        "colab": {
          "base_uri": "https://localhost:8080/"
        },
        "outputId": "aadab459-7c1a-4b70-e33d-020d792d5a87"
      },
      "execution_count": null,
      "outputs": [
        {
          "output_type": "stream",
          "name": "stdout",
          "text": [
            "0.9562043795620438\n"
          ]
        }
      ]
    },
    {
      "cell_type": "code",
      "source": [
        "accuracy_score_naive_bayes = accuracy_score(y_test, y_pred_naive_bayes)\n",
        "print(accuracy_score_naive_bayes)"
      ],
      "metadata": {
        "id": "uydvKBX3WV7y",
        "colab": {
          "base_uri": "https://localhost:8080/"
        },
        "outputId": "778be587-3bb5-4532-e15b-40f0047a1a2c"
      },
      "execution_count": null,
      "outputs": [
        {
          "output_type": "stream",
          "name": "stdout",
          "text": [
            "0.9562043795620438\n"
          ]
        }
      ]
    },
    {
      "cell_type": "code",
      "source": [
        "accuracy_score_SVC = accuracy_score(y_test, y_pred_SVC)\n",
        "print(accuracy_score_SVC)"
      ],
      "metadata": {
        "id": "5ONu74vyjYkL",
        "colab": {
          "base_uri": "https://localhost:8080/"
        },
        "outputId": "9888a46f-c2ab-433c-df02-1ff4ed487f43"
      },
      "execution_count": null,
      "outputs": [
        {
          "output_type": "stream",
          "name": "stdout",
          "text": [
            "0.9635036496350365\n"
          ]
        }
      ]
    },
    {
      "cell_type": "code",
      "source": [
        "accuracy_score_SVC_rbf = accuracy_score(y_test, y_pred_SVC_rbf)\n",
        "print(accuracy_score_SVC_rbf)"
      ],
      "metadata": {
        "id": "MHBBKhq8jlA_",
        "colab": {
          "base_uri": "https://localhost:8080/"
        },
        "outputId": "7c16955f-a092-43ea-929d-80b1f0627609"
      },
      "execution_count": null,
      "outputs": [
        {
          "output_type": "stream",
          "name": "stdout",
          "text": [
            "0.9562043795620438\n"
          ]
        }
      ]
    },
    {
      "cell_type": "code",
      "source": [
        "accuracy_score_decision_tree = accuracy_score(y_test, y_pred_decision_tree)\n",
        "print(accuracy_score_decision_tree)"
      ],
      "metadata": {
        "id": "W16yyZ-Ijwtp",
        "colab": {
          "base_uri": "https://localhost:8080/"
        },
        "outputId": "01f17609-37a3-4515-f4e3-d9966e7c6c3d"
      },
      "execution_count": null,
      "outputs": [
        {
          "output_type": "stream",
          "name": "stdout",
          "text": [
            "0.9635036496350365\n"
          ]
        }
      ]
    },
    {
      "cell_type": "code",
      "source": [
        "accuracy_score_RF = accuracy_score(y_test, y_pred_RF)\n",
        "print(accuracy_score_RF)"
      ],
      "metadata": {
        "id": "PlUwrhOrkXWv",
        "colab": {
          "base_uri": "https://localhost:8080/"
        },
        "outputId": "9306a919-f708-42c4-efa3-c43a61a5379d"
      },
      "execution_count": null,
      "outputs": [
        {
          "output_type": "stream",
          "name": "stdout",
          "text": [
            "0.9708029197080292\n"
          ]
        }
      ]
    },
    {
      "cell_type": "markdown",
      "source": [
        "##F1 SCORE\n"
      ],
      "metadata": {
        "id": "CXSydWzPjeaO"
      }
    },
    {
      "cell_type": "code",
      "source": [
        "from sklearn.metrics import f1_score\n",
        "f1_score_logistic_regression = f1_score(y_test, y_pred_logisitic_regression, average='macro')\n",
        "print(f1_score_logistic_regression)"
      ],
      "metadata": {
        "id": "tO6Ymm6ogJZT",
        "colab": {
          "base_uri": "https://localhost:8080/"
        },
        "outputId": "b35c4374-0bbf-4802-9915-7d349dc55f7c"
      },
      "execution_count": null,
      "outputs": [
        {
          "output_type": "stream",
          "name": "stdout",
          "text": [
            "0.9523423005565863\n"
          ]
        }
      ]
    },
    {
      "cell_type": "code",
      "source": [
        "f1_score_KNN = f1_score(y_test, y_pred_KNN, average='macro')\n",
        "print(f1_score_KNN)"
      ],
      "metadata": {
        "id": "wT8Z3f4Xk9F1",
        "colab": {
          "base_uri": "https://localhost:8080/"
        },
        "outputId": "e8fed481-d4c2-40e2-8201-6a5f66e3a65f"
      },
      "execution_count": null,
      "outputs": [
        {
          "output_type": "stream",
          "name": "stdout",
          "text": [
            "0.9527586206896552\n"
          ]
        }
      ]
    },
    {
      "cell_type": "code",
      "source": [
        "f1_score_naive_bayes = f1_score(y_test, y_pred_naive_bayes, average='macro')\n",
        "print(f1_score_naive_bayes)"
      ],
      "metadata": {
        "id": "KFgB5kktWWox",
        "colab": {
          "base_uri": "https://localhost:8080/"
        },
        "outputId": "4522bd32-03c4-432a-d054-5563201cdbc9"
      },
      "execution_count": null,
      "outputs": [
        {
          "output_type": "stream",
          "name": "stdout",
          "text": [
            "0.9535067873303168\n"
          ]
        }
      ]
    },
    {
      "cell_type": "code",
      "source": [
        "f1_score_SVC = f1_score(y_test, y_pred_SVC, average='macro')\n",
        "print(f1_score_KNN)"
      ],
      "metadata": {
        "id": "0NRXSu6fllTM",
        "colab": {
          "base_uri": "https://localhost:8080/"
        },
        "outputId": "40cb3e8c-e2fe-4311-edfa-16fb24364449"
      },
      "execution_count": null,
      "outputs": [
        {
          "output_type": "stream",
          "name": "stdout",
          "text": [
            "0.9527586206896552\n"
          ]
        }
      ]
    },
    {
      "cell_type": "code",
      "source": [
        "f1_score_SVC_rbf = f1_score(y_test, y_pred_SVC_rbf, average='macro')\n",
        "print(f1_score_SVC_rbf)"
      ],
      "metadata": {
        "id": "qsa79jZtl9M9",
        "colab": {
          "base_uri": "https://localhost:8080/"
        },
        "outputId": "a28a215c-c93e-49c2-de7b-d0a303607cd5"
      },
      "execution_count": null,
      "outputs": [
        {
          "output_type": "stream",
          "name": "stdout",
          "text": [
            "0.9531463748290013\n"
          ]
        }
      ]
    },
    {
      "cell_type": "code",
      "source": [
        "f1_score_decision_tree = f1_score(y_test, y_pred_decision_tree, average='macro')\n",
        "print(f1_score_decision_tree)"
      ],
      "metadata": {
        "id": "SSR_m7SVmQNA",
        "colab": {
          "base_uri": "https://localhost:8080/"
        },
        "outputId": "6dbcd7df-5057-4783-b816-02d7b4f3661b"
      },
      "execution_count": null,
      "outputs": [
        {
          "output_type": "stream",
          "name": "stdout",
          "text": [
            "0.9607966577004521\n"
          ]
        }
      ]
    },
    {
      "cell_type": "code",
      "source": [
        "f1_score_RF = f1_score(y_test, y_pred_RF, average='macro')\n",
        "print(f1_score_RF)"
      ],
      "metadata": {
        "id": "HA-fc5ntml9W",
        "colab": {
          "base_uri": "https://localhost:8080/"
        },
        "outputId": "0b24a3e9-956d-43a3-d3cf-8c7f9c37604c"
      },
      "execution_count": null,
      "outputs": [
        {
          "output_type": "stream",
          "name": "stdout",
          "text": [
            "0.9690045248868777\n"
          ]
        }
      ]
    },
    {
      "cell_type": "markdown",
      "source": [
        "##K-FOLD CROSS VALIDATION"
      ],
      "metadata": {
        "id": "RO4bhaugu8q4"
      }
    },
    {
      "cell_type": "code",
      "source": [
        "from sklearn.model_selection import cross_val_score\n",
        "accuracies_logistic_regression = cross_val_score(estimator = classifier_logistic_regression, X = X_train, y = y_train, cv = 10)\n",
        "print(\"Accuracy: {:.2f} %\".format(accuracies_logistic_regression.mean()*100))"
      ],
      "metadata": {
        "id": "0n7cT9ohaKT1",
        "colab": {
          "base_uri": "https://localhost:8080/"
        },
        "outputId": "8a1235b5-eaf4-4dcb-d813-422a99b22c4f"
      },
      "execution_count": null,
      "outputs": [
        {
          "output_type": "stream",
          "name": "stdout",
          "text": [
            "Accuracy: 96.70 %\n"
          ]
        }
      ]
    },
    {
      "cell_type": "code",
      "source": [
        "# accuracies2 = cross_val_score(estimator = clf1, X = X_train, y = y_train, cv = 10)\n",
        "# print(\"Accuracy: {:.2f} %\".format(accuracies2.mean()*100))"
      ],
      "metadata": {
        "id": "oEDOpfMvvN10"
      },
      "execution_count": null,
      "outputs": []
    },
    {
      "cell_type": "code",
      "source": [
        "accuracies_KNN = cross_val_score(estimator = classifier_KNN, X = X_train, y = y_train, cv = 10)\n",
        "print(\"Accuracy: {:.2f} %\".format(accuracies_KNN.mean()*100))"
      ],
      "metadata": {
        "id": "BXD6XBYcvXTW",
        "colab": {
          "base_uri": "https://localhost:8080/"
        },
        "outputId": "a3863f43-f346-480f-8b04-e9f7dbaeaef5"
      },
      "execution_count": null,
      "outputs": [
        {
          "output_type": "stream",
          "name": "stdout",
          "text": [
            "Accuracy: 96.52 %\n"
          ]
        }
      ]
    },
    {
      "cell_type": "code",
      "source": [
        "accuracies_naive_bayes = cross_val_score(estimator = classifier_naive_bayes, X = X_train, y = y_train, cv = 10)\n",
        "print(\"Accuracy: {:.2f} %\".format(accuracies_naive_bayes.mean()*100))"
      ],
      "metadata": {
        "id": "QDgKG2IMvTGW",
        "colab": {
          "base_uri": "https://localhost:8080/"
        },
        "outputId": "55ab2ff5-6dd3-4740-9514-97dbd3eb4b48"
      },
      "execution_count": null,
      "outputs": [
        {
          "output_type": "stream",
          "name": "stdout",
          "text": [
            "Accuracy: 95.97 %\n"
          ]
        }
      ]
    },
    {
      "cell_type": "code",
      "source": [
        "accuracies_SVC = cross_val_score(estimator = classifier_SVC, X = X_train, y = y_train, cv = 10)\n",
        "print(\"Accuracy: {:.2f} %\".format(accuracies_SVC.mean()*100))"
      ],
      "metadata": {
        "id": "iBl8848WvanV",
        "colab": {
          "base_uri": "https://localhost:8080/"
        },
        "outputId": "ea4c756f-6f0f-40f5-9ea5-f7d882c8aa05"
      },
      "execution_count": null,
      "outputs": [
        {
          "output_type": "stream",
          "name": "stdout",
          "text": [
            "Accuracy: 97.07 %\n"
          ]
        }
      ]
    },
    {
      "cell_type": "code",
      "source": [
        "accuracies_SVC_rbf = cross_val_score(estimator = classifier_SVC_rbf, X = X_train, y = y_train, cv = 10)\n",
        "print(\"Accuracy: {:.2f} %\".format(accuracies_SVC_rbf.mean()*100))"
      ],
      "metadata": {
        "id": "aTCuHpIQvd6T",
        "colab": {
          "base_uri": "https://localhost:8080/"
        },
        "outputId": "de41881c-cc43-4450-b652-651cf53d1568"
      },
      "execution_count": null,
      "outputs": [
        {
          "output_type": "stream",
          "name": "stdout",
          "text": [
            "Accuracy: 96.53 %\n"
          ]
        }
      ]
    },
    {
      "cell_type": "code",
      "source": [
        "accuracies_descision_tree = cross_val_score(estimator = classifier_descision_tree, X = X_train, y = y_train, cv = 10)\n",
        "print(\"Accuracy: {:.2f} %\".format(accuracies_descision_tree.mean()*100))"
      ],
      "metadata": {
        "id": "gyoPwu3pvfcI",
        "colab": {
          "base_uri": "https://localhost:8080/"
        },
        "outputId": "dd5d8393-fc5c-4f51-fb36-c42d55ef475d"
      },
      "execution_count": null,
      "outputs": [
        {
          "output_type": "stream",
          "name": "stdout",
          "text": [
            "Accuracy: 94.68 %\n"
          ]
        }
      ]
    },
    {
      "cell_type": "code",
      "source": [
        "accuracies_RF = cross_val_score(estimator = classifier_RF, X = X_train, y = y_train, cv = 10)\n",
        "print(\"Accuracy: {:.2f} %\".format(accuracies_RF.mean()*100))"
      ],
      "metadata": {
        "id": "Ji7r0LlEvhIN",
        "colab": {
          "base_uri": "https://localhost:8080/"
        },
        "outputId": "da980925-f475-4fda-f546-4e4d01d53512"
      },
      "execution_count": null,
      "outputs": [
        {
          "output_type": "stream",
          "name": "stdout",
          "text": [
            "Accuracy: 96.53 %\n"
          ]
        }
      ]
    },
    {
      "cell_type": "code",
      "source": [],
      "metadata": {
        "id": "1PYP9Wulp4cb"
      },
      "execution_count": null,
      "outputs": []
    },
    {
      "cell_type": "code",
      "source": [
        "import matplotlib.pyplot as plt\n",
        "from sklearn.metrics import ConfusionMatrixDisplay\n",
        "ConfusionMatrixDisplay.from_predictions(y_test, y_pred_KNN)"
      ],
      "metadata": {
        "id": "rsDM4aDlp4M0",
        "colab": {
          "base_uri": "https://localhost:8080/",
          "height": 296
        },
        "outputId": "2ca43d61-8046-4ad4-c5ff-c7cf146ddd27"
      },
      "execution_count": null,
      "outputs": [
        {
          "output_type": "execute_result",
          "data": {
            "text/plain": [
              "<sklearn.metrics._plot.confusion_matrix.ConfusionMatrixDisplay at 0x7f0cea9e12e0>"
            ]
          },
          "metadata": {},
          "execution_count": 224
        },
        {
          "output_type": "display_data",
          "data": {
            "text/plain": [
              "<Figure size 432x288 with 2 Axes>"
            ],
            "image/png": "[encoded data removed]"
          },
          "metadata": {
            "needs_background": "light"
          }
        }
      ]
    },
    {
      "cell_type": "code",
      "source": [
        "import matplotlib.pyplot as plt\n",
        "from sklearn.metrics import ConfusionMatrixDisplay\n",
        "ConfusionMatrixDisplay.from_estimator(classifier_KNN, X_test, y_test)"
      ],
      "metadata": {
        "id": "QbVGoT7pqU-4",
        "colab": {
          "base_uri": "https://localhost:8080/",
          "height": 296
        },
        "outputId": "b0b8d20a-034b-4e4d-ff0b-f291c5cd9d57"
      },
      "execution_count": null,
      "outputs": [
        {
          "output_type": "execute_result",
          "data": {
            "text/plain": [
              "<sklearn.metrics._plot.confusion_matrix.ConfusionMatrixDisplay at 0x7f0ce8854dc0>"
            ]
          },
          "metadata": {},
          "execution_count": 225
        },
        {
          "output_type": "display_data",
          "data": {
            "text/plain": [
              "<Figure size 432x288 with 2 Axes>"
            ],
            "image/png": "[encoded data removed]"
          },
          "metadata": {
            "needs_background": "light"
          }
        }
      ]
    }
  ]
}